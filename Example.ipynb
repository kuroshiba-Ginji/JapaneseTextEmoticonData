{
 "cells": [
  {
   "cell_type": "code",
   "execution_count": 1,
   "id": "innocent-posting",
   "metadata": {},
   "outputs": [
    {
     "data": {
      "text/plain": [
       "'1.2.3'"
      ]
     },
     "execution_count": 1,
     "metadata": {},
     "output_type": "execute_result"
    }
   ],
   "source": [
    "import pandas as pd\n",
    "pd.__version__"
   ]
  },
  {
   "cell_type": "code",
   "execution_count": 2,
   "id": "pharmaceutical-wayne",
   "metadata": {},
   "outputs": [
    {
     "name": "stdout",
     "output_type": "stream",
     "text": [
      "124359\n"
     ]
    }
   ],
   "source": [
    "df = pd.read_pickle('train_20210126.pkl')\n",
    "print (len(df))"
   ]
  },
  {
   "cell_type": "code",
   "execution_count": 3,
   "id": "portable-carpet",
   "metadata": {},
   "outputs": [
    {
     "data": {
      "text/html": [
       "<div>\n",
       "<style scoped>\n",
       "    .dataframe tbody tr th:only-of-type {\n",
       "        vertical-align: middle;\n",
       "    }\n",
       "\n",
       "    .dataframe tbody tr th {\n",
       "        vertical-align: top;\n",
       "    }\n",
       "\n",
       "    .dataframe thead th {\n",
       "        text-align: right;\n",
       "    }\n",
       "</style>\n",
       "<table border=\"1\" class=\"dataframe\">\n",
       "  <thead>\n",
       "    <tr style=\"text-align: right;\">\n",
       "      <th></th>\n",
       "      <th>text</th>\n",
       "      <th>emoticon</th>\n",
       "      <th>textEmotion</th>\n",
       "      <th>textPolarity</th>\n",
       "      <th>emoEmotion</th>\n",
       "      <th>emoPolarity</th>\n",
       "    </tr>\n",
       "  </thead>\n",
       "  <tbody>\n",
       "    <tr>\n",
       "      <th>11893</th>\n",
       "      <td>無理せんでらbyちゃん火曜日意地でも蕎麦行きますから</td>\n",
       "      <td>(｀∀´)</td>\n",
       "      <td>None</td>\n",
       "      <td>None</td>\n",
       "      <td>joy</td>\n",
       "      <td>positive</td>\n",
       "    </tr>\n",
       "    <tr>\n",
       "      <th>106266</th>\n",
       "      <td>皆さん昨日はおやすみありがとでした</td>\n",
       "      <td>♪( ´▽｀)</td>\n",
       "      <td>None</td>\n",
       "      <td>None</td>\n",
       "      <td>relief</td>\n",
       "      <td>positive</td>\n",
       "    </tr>\n",
       "    <tr>\n",
       "      <th>86774</th>\n",
       "      <td>今年初gにお目にかかりました</td>\n",
       "      <td>Σ（・□・；）</td>\n",
       "      <td>None</td>\n",
       "      <td>None</td>\n",
       "      <td>amaze</td>\n",
       "      <td>others</td>\n",
       "    </tr>\n",
       "    <tr>\n",
       "      <th>121315</th>\n",
       "      <td>ついでにあずにゃんもぺろぺろ</td>\n",
       "      <td>（＾ω＾）</td>\n",
       "      <td>None</td>\n",
       "      <td>None</td>\n",
       "      <td>joy</td>\n",
       "      <td>positive</td>\n",
       "    </tr>\n",
       "    <tr>\n",
       "      <th>52796</th>\n",
       "      <td>こりではまるでぱーちーみたいですにゃね</td>\n",
       "      <td>(￣◇￣;)</td>\n",
       "      <td>None</td>\n",
       "      <td>None</td>\n",
       "      <td>amaze</td>\n",
       "      <td>others</td>\n",
       "    </tr>\n",
       "    <tr>\n",
       "      <th>77107</th>\n",
       "      <td>リア充にぴったりの本だよね</td>\n",
       "      <td>(^o^)</td>\n",
       "      <td>None</td>\n",
       "      <td>None</td>\n",
       "      <td>joy</td>\n",
       "      <td>positive</td>\n",
       "    </tr>\n",
       "    <tr>\n",
       "      <th>58074</th>\n",
       "      <td>私のことは呼びタメで大丈夫です</td>\n",
       "      <td>(｀･ω･´)</td>\n",
       "      <td>None</td>\n",
       "      <td>None</td>\n",
       "      <td>excite</td>\n",
       "      <td>others</td>\n",
       "    </tr>\n",
       "    <tr>\n",
       "      <th>104260</th>\n",
       "      <td>変態発言が多いですがよろしくお願いします</td>\n",
       "      <td>(´∀｀*)</td>\n",
       "      <td>None</td>\n",
       "      <td>None</td>\n",
       "      <td>relief</td>\n",
       "      <td>positive</td>\n",
       "    </tr>\n",
       "    <tr>\n",
       "      <th>43480</th>\n",
       "      <td>深夜練習お疲れ様でした</td>\n",
       "      <td>(^O^)</td>\n",
       "      <td>None</td>\n",
       "      <td>None</td>\n",
       "      <td>joy</td>\n",
       "      <td>positive</td>\n",
       "    </tr>\n",
       "    <tr>\n",
       "      <th>58513</th>\n",
       "      <td>あでは夜になると思いますが一晩よろしくお願いします</td>\n",
       "      <td>(u_u)</td>\n",
       "      <td>None</td>\n",
       "      <td>None</td>\n",
       "      <td>relief</td>\n",
       "      <td>positive</td>\n",
       "    </tr>\n",
       "  </tbody>\n",
       "</table>\n",
       "</div>"
      ],
      "text/plain": [
       "                              text emoticon textEmotion textPolarity  \\\n",
       "11893   無理せんでらbyちゃん火曜日意地でも蕎麦行きますから    (｀∀´)        None         None   \n",
       "106266           皆さん昨日はおやすみありがとでした  ♪( ´▽｀)        None         None   \n",
       "86774               今年初gにお目にかかりました  Σ（・□・；）        None         None   \n",
       "121315              ついでにあずにゃんもぺろぺろ    （＾ω＾）        None         None   \n",
       "52796          こりではまるでぱーちーみたいですにゃね   (￣◇￣;)        None         None   \n",
       "77107                リア充にぴったりの本だよね    (^o^)        None         None   \n",
       "58074              私のことは呼びタメで大丈夫です  (｀･ω･´)        None         None   \n",
       "104260        変態発言が多いですがよろしくお願いします   (´∀｀*)        None         None   \n",
       "43480                  深夜練習お疲れ様でした    (^O^)        None         None   \n",
       "58513    あでは夜になると思いますが一晩よろしくお願いします    (u_u)        None         None   \n",
       "\n",
       "       emoEmotion emoPolarity  \n",
       "11893         joy    positive  \n",
       "106266     relief    positive  \n",
       "86774       amaze      others  \n",
       "121315        joy    positive  \n",
       "52796       amaze      others  \n",
       "77107         joy    positive  \n",
       "58074      excite      others  \n",
       "104260     relief    positive  \n",
       "43480         joy    positive  \n",
       "58513      relief    positive  "
      ]
     },
     "execution_count": 3,
     "metadata": {},
     "output_type": "execute_result"
    }
   ],
   "source": [
    "df.sample(10)"
   ]
  },
  {
   "cell_type": "code",
   "execution_count": null,
   "id": "passive-combination",
   "metadata": {},
   "outputs": [],
   "source": []
  }
 ],
 "metadata": {
  "kernelspec": {
   "display_name": "Python 3",
   "language": "python",
   "name": "python3"
  },
  "language_info": {
   "codemirror_mode": {
    "name": "ipython",
    "version": 3
   },
   "file_extension": ".py",
   "mimetype": "text/x-python",
   "name": "python",
   "nbconvert_exporter": "python",
   "pygments_lexer": "ipython3",
   "version": "3.8.2"
  }
 },
 "nbformat": 4,
 "nbformat_minor": 5
}
